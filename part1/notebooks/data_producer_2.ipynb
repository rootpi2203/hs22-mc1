{
 "cells": [
  {
   "cell_type": "code",
   "execution_count": 1,
   "outputs": [],
   "source": [
    "#!pip install kafka-python"
   ],
   "metadata": {
    "collapsed": false
   }
  },
  {
   "cell_type": "code",
   "execution_count": 2,
   "metadata": {
    "collapsed": true
   },
   "outputs": [],
   "source": [
    "from kafka import KafkaConsumer, KafkaProducer\n",
    "import json\n",
    "import uuid\n",
    "import pandas as pd\n",
    "import csv\n",
    "import time\n"
   ]
  },
  {
   "cell_type": "markdown",
   "source": [
    "# Data Producer 2"
   ],
   "metadata": {
    "collapsed": false
   }
  },
  {
   "cell_type": "code",
   "execution_count": 3,
   "outputs": [],
   "source": [
    "def connect_kafka_producer(servers):\n",
    "    _producer = None\n",
    "    try:\n",
    "        _producer = KafkaProducer(bootstrap_servers=servers, api_version=(0, 10))\n",
    "    except Exception as ex:\n",
    "        print('Exception while connecting Kafka')\n",
    "        print(str(ex))\n",
    "    finally:\n",
    "        return _producer\n",
    "\n",
    "def publish_message(producer_instance, topic_name, key, value):\n",
    "    try:\n",
    "        key_bytes = bytes(key, encoding='utf-8')\n",
    "        value_bytes = bytes(value, encoding='utf-8')\n",
    "        producer_instance.send(topic_name, key=key_bytes, value=value_bytes)\n",
    "        producer_instance.flush()\n",
    "        print(f'Message published successfully to topic: {topic_name}.')\n",
    "    except Exception as ex:\n",
    "        print('Exception in publishing message')\n",
    "        print(str(ex))\n",
    "\n",
    "def produce_xy(producer, topic_name, sleep_hz):\n",
    "    with open('data/gen2_Heizungsdaten.csv') as f:\n",
    "        next(f)\n",
    "        for i, line in enumerate(f):\n",
    "            print(f'index {i}')\n",
    "            message = json.dumps({'data': str(line)})\n",
    "            print(message)\n",
    "            publish_message(producer, topic_name, str(uuid.uuid4()), message)\n",
    "            time.sleep(sleep_hz)"
   ],
   "metadata": {
    "collapsed": false
   }
  },
  {
   "cell_type": "code",
   "execution_count": 5,
   "outputs": [
    {
     "name": "stdout",
     "output_type": "stream",
     "text": [
      "index 0\n",
      "{\"data\": \"2021-08-30 23:37:55,1,0,0,0,0,1,0,0,0,0,0,0,0,1,0,0,1,0,-27.5,46.9,15.6,20.1,18.6,19.0,18.1,13.5,14.5,22.0,0,0,0,0,0,0,0,0,0,0,0,0,0,1,155,155,155,155,155,0,0,0,0,0.4,1.0,0,0\\n\"}\n",
      "Message published successfully to topic: data_gen2.\n",
      "index 1\n",
      "{\"data\": \"2021-08-30 23:38:55,1,0,0,0,0,1,0,0,0,0,0,0,0,1,0,0,1,0,-27.5,46.9,15.6,20.1,18.6,19.0,18.1,13.5,14.6,22.0,0,0,0,0,0,0,0,0,0,0,0,0,0,1,155,155,155,155,155,0,0,0,0,0.4,1.1,0,0\\n\"}\n",
      "Message published successfully to topic: data_gen2.\n",
      "index 2\n",
      "{\"data\": \"2021-08-30 23:39:55,1,0,0,0,0,1,0,0,0,0,0,0,0,1,0,0,1,0,-27.5,46.9,15.6,20.1,18.6,19.0,18.1,13.5,14.5,22.0,0,0,0,0,0,0,0,0,0,0,0,0,0,1,155,155,155,155,155,0,0,0,0,0.4,1.0,0,0\\n\"}\n",
      "Message published successfully to topic: data_gen2.\n",
      "index 3\n",
      "{\"data\": \"2021-08-30 23:40:55,1,0,0,0,0,1,0,0,0,0,0,0,0,1,0,0,1,0,-27.5,46.9,15.6,20.1,18.6,19.0,18.1,13.4,14.5,22.0,0,0,0,0,0,0,0,0,0,0,0,0,0,1,155,155,155,155,155,0,0,0,0,0.4,1.1,0,0\\n\"}\n",
      "Message published successfully to topic: data_gen2.\n",
      "index 4\n",
      "{\"data\": \"2021-08-30 23:41:55,1,0,0,0,0,1,0,0,0,0,0,0,0,1,0,0,1,0,-27.5,46.9,15.7,20.1,18.6,19.0,18.1,13.5,14.5,22.0,0,0,0,0,0,0,0,0,0,0,0,0,0,1,155,155,155,155,155,0,0,0,0,0.4,1.0,0,0\\n\"}\n",
      "Message published successfully to topic: data_gen2.\n",
      "index 5\n",
      "{\"data\": \"2021-08-30 23:42:55,1,0,0,0,0,1,0,0,0,0,0,0,0,1,0,0,1,0,-27.5,46.9,15.6,20.1,18.6,19.0,18.1,13.5,14.6,22.0,0,0,0,0,0,0,0,0,0,0,0,0,0,1,155,155,155,155,155,0,0,0,0,0.4,1.1,0,0\\n\"}\n",
      "Message published successfully to topic: data_gen2.\n",
      "index 6\n",
      "{\"data\": \"2021-08-30 23:43:55,1,0,0,0,0,1,0,0,0,0,0,0,0,1,0,0,1,0,-27.5,46.9,15.6,20.1,18.6,19.0,18.1,13.5,14.7,22.0,0,0,0,0,0,0,0,0,0,0,0,0,0,1,155,155,155,155,155,0,0,0,0,0.4,1.2,0,0\\n\"}\n",
      "Message published successfully to topic: data_gen2.\n",
      "index 7\n",
      "{\"data\": \"2021-08-30 23:44:55,1,0,0,0,0,1,0,0,0,0,0,0,0,1,0,0,1,0,-27.5,46.9,15.6,20.1,18.6,19.0,18.1,13.5,14.7,22.0,0,0,0,0,0,0,0,0,0,0,0,0,0,1,155,155,155,155,155,0,0,0,0,0.4,1.2,0,0\\n\"}\n",
      "Message published successfully to topic: data_gen2.\n",
      "index 8\n",
      "{\"data\": \"2021-08-30 23:45:55,1,0,0,0,0,1,0,0,0,0,0,0,0,1,0,0,1,0,-27.5,46.8,15.6,20.1,18.6,19.0,18.1,13.5,14.7,22.0,0,0,0,0,0,0,0,0,0,0,0,0,0,1,155,155,155,155,155,0,0,0,0,0.4,1.2,0,0\\n\"}\n",
      "Message published successfully to topic: data_gen2.\n",
      "index 9\n",
      "{\"data\": \"2021-08-30 23:46:55,1,0,0,0,0,1,0,0,0,0,0,0,0,1,0,0,1,0,-27.5,46.8,15.6,20.1,18.6,19.0,18.1,13.6,14.7,22.0,0,0,0,0,0,0,0,0,0,0,0,0,0,1,155,155,155,155,155,0,0,0,0,0.4,1.1,0,0\\n\"}\n",
      "Message published successfully to topic: data_gen2.\n",
      "index 10\n",
      "{\"data\": \"2021-08-30 23:47:55,1,0,0,0,0,1,0,0,0,0,0,0,0,1,0,0,1,0,-27.5,46.8,15.6,20.1,18.6,19.0,18.1,13.6,14.7,22.0,0,0,0,0,0,0,0,0,0,0,0,0,0,1,155,155,155,155,155,0,0,0,0,0.4,1.1,0,0\\n\"}\n",
      "Message published successfully to topic: data_gen2.\n",
      "index 11\n",
      "{\"data\": \"2021-08-30 23:48:55,1,0,0,0,0,1,0,0,0,0,0,0,0,1,0,0,1,0,-27.5,46.9,15.6,20.1,18.6,19.0,18.1,13.6,14.8,22.0,0,0,0,0,0,0,0,0,0,0,0,0,0,1,155,155,155,155,155,0,0,0,0,0.4,1.2,0,0\\n\"}\n",
      "Message published successfully to topic: data_gen2.\n",
      "index 12\n",
      "{\"data\": \"2021-08-30 23:49:55,1,0,0,0,0,1,0,0,0,0,0,0,0,1,0,0,1,0,-27.5,46.9,15.6,20.1,18.6,19.0,18.1,13.7,14.8,22.0,0,0,0,0,0,0,0,0,0,0,0,0,0,1,155,155,155,155,155,0,0,0,0,0.4,1.1,0,0\\n\"}\n",
      "Message published successfully to topic: data_gen2.\n",
      "index 13\n",
      "{\"data\": \"2021-08-30 23:50:55,1,0,0,0,0,1,0,0,0,0,0,0,0,1,0,0,1,0,-27.5,46.9,15.6,20.1,18.6,19.0,18.1,13.7,14.8,22.0,0,0,0,0,0,0,0,0,0,0,0,0,0,1,155,155,155,155,155,0,0,0,0,0.4,1.1,0,0\\n\"}\n",
      "Message published successfully to topic: data_gen2.\n",
      "index 14\n",
      "{\"data\": \"2021-08-30 23:51:55,1,0,0,0,0,1,0,0,0,0,0,0,0,1,0,0,1,0,-27.5,46.8,15.6,20.1,18.6,19.0,18.1,13.6,14.8,22.0,0,0,0,0,0,0,0,0,0,0,0,0,0,1,155,155,155,155,155,0,0,0,0,0.4,1.2,0,0\\n\"}\n",
      "Message published successfully to topic: data_gen2.\n",
      "index 15\n",
      "{\"data\": \"2021-08-30 23:52:55,1,0,0,0,0,1,0,0,0,0,0,0,0,1,0,0,1,0,-27.5,46.9,15.6,20.1,18.6,19.0,18.1,13.6,14.8,22.0,0,0,0,0,0,0,0,0,0,0,0,0,0,1,155,155,155,155,155,0,0,0,0,0.4,1.2,0,0\\n\"}\n",
      "Message published successfully to topic: data_gen2.\n",
      "index 16\n",
      "{\"data\": \"2021-08-30 23:53:55,1,0,0,0,0,1,0,0,0,1,0,0,0,1,0,0,1,0,-27.5,46.8,15.6,20.1,18.6,19.0,18.1,13.6,14.8,22.0,0,0,0,0,0,0,0,0,0,0,0,0,0,1,155,155,155,155,155,0,0,0,0,0.4,1.2,0,0\\n\"}\n",
      "Message published successfully to topic: data_gen2.\n",
      "index 17\n",
      "{\"data\": \"2021-08-30 23:54:55,1,0,0,0,0,1,0,0,0,1,0,0,0,1,0,0,1,0,-27.5,46.9,15.6,20.1,18.6,19.0,17.9,13.5,14.7,22.0,0,0,0,0,0,0,0,0,0,0,0,0,0,1,155,155,155,155,155,0,0,0,0,0.4,1.2,0,0\\n\"}\n",
      "Message published successfully to topic: data_gen2.\n",
      "index 18\n",
      "{\"data\": \"2021-08-30 23:55:55,1,0,0,0,0,1,0,0,0,1,0,0,0,1,0,0,1,0,-27.5,46.8,15.6,20.1,18.6,19.0,18.1,13.5,14.7,22.0,0,0,0,0,0,0,0,0,0,0,0,0,0,1,155,155,155,155,155,0,0,0,0,0.4,1.2,0,0\\n\"}\n",
      "Message published successfully to topic: data_gen2.\n",
      "index 19\n",
      "{\"data\": \"2021-08-30 23:56:55,1,0,0,0,0,1,0,0,0,1,0,0,0,1,0,0,1,0,-27.5,46.8,15.5,20.1,18.6,19.0,18.1,13.6,14.7,22.0,0,0,0,0,0,0,0,0,0,0,0,0,0,1,155,155,155,155,155,0,0,0,0,0.4,1.1,0,0\\n\"}\n",
      "Message published successfully to topic: data_gen2.\n"
     ]
    },
    {
     "ename": "KeyboardInterrupt",
     "evalue": "",
     "output_type": "error",
     "traceback": [
      "\u001B[0;31m---------------------------------------------------------------------------\u001B[0m",
      "\u001B[0;31mKeyboardInterrupt\u001B[0m                         Traceback (most recent call last)",
      "Cell \u001B[0;32mIn [5], line 9\u001B[0m\n\u001B[1;32m      6\u001B[0m producer2 \u001B[38;5;241m=\u001B[39m connect_kafka_producer(server2)\n\u001B[1;32m      8\u001B[0m hz \u001B[38;5;241m=\u001B[39m \u001B[38;5;241m2\u001B[39m\n\u001B[0;32m----> 9\u001B[0m produce_xy(producer2, topic, hz)\n",
      "Cell \u001B[0;32mIn [3], line 30\u001B[0m, in \u001B[0;36mproduce_xy\u001B[0;34m(producer, topic_name, sleep_hz)\u001B[0m\n\u001B[1;32m     28\u001B[0m \u001B[38;5;28mprint\u001B[39m(message)\n\u001B[1;32m     29\u001B[0m publish_message(producer, topic_name, \u001B[38;5;28mstr\u001B[39m(uuid\u001B[38;5;241m.\u001B[39muuid4()), message)\n\u001B[0;32m---> 30\u001B[0m \u001B[43mtime\u001B[49m\u001B[38;5;241;43m.\u001B[39;49m\u001B[43msleep\u001B[49m\u001B[43m(\u001B[49m\u001B[43msleep_hz\u001B[49m\u001B[43m)\u001B[49m\n",
      "\u001B[0;31mKeyboardInterrupt\u001B[0m: "
     ]
    }
   ],
   "source": [
    "server1 = 'broker1:9093'\n",
    "server2 = 'broker2:9095'\n",
    "server3 = 'broker3:9097'\n",
    "topic = \"data_gen2\"\n",
    "\n",
    "producer2 = connect_kafka_producer(server2)\n",
    "\n",
    "hz = 2\n",
    "produce_xy(producer2, topic, hz)"
   ],
   "metadata": {
    "collapsed": false
   }
  },
  {
   "cell_type": "code",
   "execution_count": null,
   "outputs": [],
   "source": [],
   "metadata": {
    "collapsed": false
   }
  },
  {
   "cell_type": "code",
   "execution_count": null,
   "outputs": [],
   "source": [],
   "metadata": {
    "collapsed": false
   }
  },
  {
   "cell_type": "code",
   "execution_count": null,
   "outputs": [],
   "source": [],
   "metadata": {
    "collapsed": false
   }
  },
  {
   "cell_type": "code",
   "execution_count": null,
   "outputs": [],
   "source": [],
   "metadata": {
    "collapsed": false
   }
  },
  {
   "cell_type": "code",
   "execution_count": null,
   "outputs": [],
   "source": [],
   "metadata": {
    "collapsed": false
   }
  },
  {
   "cell_type": "code",
   "execution_count": null,
   "outputs": [],
   "source": [],
   "metadata": {
    "collapsed": false
   }
  },
  {
   "cell_type": "code",
   "execution_count": null,
   "outputs": [],
   "source": [],
   "metadata": {
    "collapsed": false
   }
  }
 ],
 "metadata": {
  "kernelspec": {
   "display_name": "Python 3",
   "language": "python",
   "name": "python3"
  },
  "language_info": {
   "codemirror_mode": {
    "name": "ipython",
    "version": 2
   },
   "file_extension": ".py",
   "mimetype": "text/x-python",
   "name": "python",
   "nbconvert_exporter": "python",
   "pygments_lexer": "ipython2",
   "version": "2.7.6"
  }
 },
 "nbformat": 4,
 "nbformat_minor": 0
}