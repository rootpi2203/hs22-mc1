{
 "cells": [
  {
   "cell_type": "code",
   "execution_count": 1,
   "metadata": {
    "collapsed": true
   },
   "outputs": [
    {
     "name": "stdout",
     "output_type": "stream",
     "text": [
      "Requirement already satisfied: kafka-python in /opt/conda/lib/python3.10/site-packages (2.0.2)\r\n"
     ]
    }
   ],
   "source": [
    "!pip install kafka-python"
   ]
  },
  {
   "cell_type": "code",
   "execution_count": 2,
   "outputs": [],
   "source": [
    "from kafka import KafkaConsumer, KafkaProducer\n",
    "import json\n",
    "import uuid\n",
    "import pandas as pd\n",
    "import csv\n",
    "import time"
   ],
   "metadata": {
    "collapsed": false
   }
  },
  {
   "cell_type": "markdown",
   "source": [
    "# Consumer 2b\n",
    "Maintanance department reading heating unit data (faster rate, read only and printing latest data)"
   ],
   "metadata": {
    "collapsed": false
   }
  },
  {
   "cell_type": "code",
   "execution_count": 3,
   "outputs": [],
   "source": [
    "server1 = 'broker1:9093'\n",
    "server2 = 'broker2:9095'\n",
    "server3 = 'broker3:9097'\n",
    "\n",
    "topic1 = \"data_gen1\"\n",
    "topic2 = \"data_gen2\"\n",
    "\n",
    "consumer2b = KafkaConsumer(topic2,\n",
    "                         auto_offset_reset='earliest',\n",
    "                         bootstrap_servers=[server2],\n",
    "                         api_version=(0, 10),\n",
    "                         value_deserializer = json.loads,\n",
    "                         consumer_timeout_ms=1000)"
   ],
   "metadata": {
    "collapsed": false
   }
  },
  {
   "cell_type": "code",
   "execution_count": 4,
   "outputs": [],
   "source": [
    "def consume_2(consumer, topic_name):\n",
    "    # get data from Kafka\n",
    "    messages = []\n",
    "    for msg in consumer:\n",
    "        #print(msg.key.decode(\"utf-8\"), msg.value)\n",
    "        messages.append(msg.value)\n",
    "    print(f'{len(messages)} messages received on topic: {topic_name}')\n",
    "\n",
    "    # save received data to csv\n",
    "    if len(messages) != 0:\n",
    "        # print  latest received data point\n",
    "        print(f'latest data: {messages[-1][\"data\"]}')\n",
    "        return True\n",
    "    else:\n",
    "        print('no new messages - producer has stopped')\n",
    "        return False"
   ],
   "metadata": {
    "collapsed": false
   }
  },
  {
   "cell_type": "code",
   "execution_count": 6,
   "outputs": [
    {
     "name": "stdout",
     "output_type": "stream",
     "text": [
      "16 messages received on topic: data_gen2\n",
      "latest data: 2021-08-30 23:43:55,1,0,0,0,0,1,0,0,0,0,0,0,0,1,0,0,1,0,-27.5,46.9,15.6,20.1,18.6,19.0,18.1,13.5,14.7,22.0,0,0,0,0,0,0,0,0,0,0,0,0,0,1,155,155,155,155,155,0,0,0,0,0.4,1.2,0,0\n",
      "\n",
      "6 messages received on topic: data_gen2\n",
      "latest data: 2021-08-30 23:49:55,1,0,0,0,0,1,0,0,0,0,0,0,0,1,0,0,1,0,-27.5,46.9,15.6,20.1,18.6,19.0,18.1,13.7,14.8,22.0,0,0,0,0,0,0,0,0,0,0,0,0,0,1,155,155,155,155,155,0,0,0,0,0.4,1.1,0,0\n",
      "\n",
      "5 messages received on topic: data_gen2\n",
      "latest data: 2021-08-30 23:54:55,1,0,0,0,0,1,0,0,0,1,0,0,0,1,0,0,1,0,-27.5,46.9,15.6,20.1,18.6,19.0,17.9,13.5,14.7,22.0,0,0,0,0,0,0,0,0,0,0,0,0,0,1,155,155,155,155,155,0,0,0,0,0.4,1.2,0,0\n",
      "\n",
      "2 messages received on topic: data_gen2\n",
      "latest data: 2021-08-30 23:56:55,1,0,0,0,0,1,0,0,0,1,0,0,0,1,0,0,1,0,-27.5,46.8,15.5,20.1,18.6,19.0,18.1,13.6,14.7,22.0,0,0,0,0,0,0,0,0,0,0,0,0,0,1,155,155,155,155,155,0,0,0,0,0.4,1.1,0,0\n",
      "\n",
      "0 messages received on topic: data_gen2\n",
      "no new messages - producer  has stopped\n"
     ]
    }
   ],
   "source": [
    "while True:\n",
    "    new_data = consume_2(consumer2b, topic2)\n",
    "    if not new_data:\n",
    "        break\n",
    "    time.sleep(10)"
   ],
   "metadata": {
    "collapsed": false
   }
  },
  {
   "cell_type": "code",
   "execution_count": null,
   "outputs": [],
   "source": [],
   "metadata": {
    "collapsed": false
   }
  },
  {
   "cell_type": "code",
   "execution_count": null,
   "outputs": [],
   "source": [],
   "metadata": {
    "collapsed": false
   }
  },
  {
   "cell_type": "code",
   "execution_count": null,
   "outputs": [],
   "source": [],
   "metadata": {
    "collapsed": false
   }
  }
 ],
 "metadata": {
  "kernelspec": {
   "display_name": "Python 3",
   "language": "python",
   "name": "python3"
  },
  "language_info": {
   "codemirror_mode": {
    "name": "ipython",
    "version": 2
   },
   "file_extension": ".py",
   "mimetype": "text/x-python",
   "name": "python",
   "nbconvert_exporter": "python",
   "pygments_lexer": "ipython2",
   "version": "2.7.6"
  }
 },
 "nbformat": 4,
 "nbformat_minor": 0
}