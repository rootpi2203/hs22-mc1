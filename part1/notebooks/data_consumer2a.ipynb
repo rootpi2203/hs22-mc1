{
 "cells": [
  {
   "cell_type": "code",
   "execution_count": 1,
   "metadata": {
    "collapsed": true
   },
   "outputs": [
    {
     "name": "stdout",
     "output_type": "stream",
     "text": [
      "Requirement already satisfied: kafka-python in /opt/conda/lib/python3.10/site-packages (2.0.2)\r\n"
     ]
    }
   ],
   "source": [
    "!pip install kafka-python"
   ]
  },
  {
   "cell_type": "code",
   "execution_count": 2,
   "outputs": [],
   "source": [
    "from kafka import KafkaConsumer, KafkaProducer\n",
    "import json\n",
    "import uuid\n",
    "import pandas as pd\n",
    "import csv\n",
    "import time"
   ],
   "metadata": {
    "collapsed": false
   }
  },
  {
   "cell_type": "markdown",
   "source": [
    "# Consumer 2a\n",
    "Planning department reading heating unit data (slower rate, and storing data)"
   ],
   "metadata": {
    "collapsed": false
   }
  },
  {
   "cell_type": "code",
   "execution_count": 3,
   "outputs": [],
   "source": [
    "server1 = 'broker1:9093'\n",
    "server2 = 'broker2:9095'\n",
    "server3 = 'broker3:9097'\n",
    "\n",
    "topic1 = \"data_gen1\"\n",
    "topic2 = \"data_gen2\"\n",
    "\n",
    "consumer2a = KafkaConsumer(topic2,\n",
    "                         auto_offset_reset='earliest',\n",
    "                         bootstrap_servers=[server2],\n",
    "                         api_version=(0, 10),\n",
    "                         value_deserializer = json.loads,\n",
    "                         consumer_timeout_ms=1000)"
   ],
   "metadata": {
    "collapsed": false
   }
  },
  {
   "cell_type": "code",
   "execution_count": 4,
   "outputs": [],
   "source": [
    "def consume_2(consumer, topic_name):\n",
    "    # get data from Kafka\n",
    "    messages = []\n",
    "    for msg in consumer:\n",
    "        #print(msg.key.decode(\"utf-8\"), msg.value)\n",
    "        messages.append(msg.value)\n",
    "    print(f'{len(messages)} messages received on topic: {topic_name}')\n",
    "\n",
    "    # save received data to csv\n",
    "    if len(messages) != 0:\n",
    "        # append to file\n",
    "        df_consumer1 = pd.DataFrame(messages)\n",
    "        df_consumer1.to_csv('data/consum_Heizungsdaten.csv', mode='a', header=False, index=False)\n",
    "        print('messages saved to file')\n",
    "        return True\n",
    "    else:\n",
    "        print('no new messages - producer has stopped')\n",
    "        return False"
   ],
   "metadata": {
    "collapsed": false
   }
  },
  {
   "cell_type": "code",
   "execution_count": 6,
   "outputs": [
    {
     "name": "stdout",
     "output_type": "stream",
     "text": [
      "4 messages received on topic: data_gen2\n",
      "messages saved to file\n",
      "2 messages received on topic: data_gen2\n",
      "messages saved to file\n",
      "3 messages received on topic: data_gen2\n",
      "messages saved to file\n",
      "3 messages received on topic: data_gen2\n",
      "messages saved to file\n",
      "3 messages received on topic: data_gen2\n",
      "messages saved to file\n",
      "3 messages received on topic: data_gen2\n",
      "messages saved to file\n",
      "2 messages received on topic: data_gen2\n",
      "messages saved to file\n",
      "0 messages received on topic: data_gen2\n",
      "no new messages - producer has stopped\n"
     ]
    }
   ],
   "source": [
    "while True:\n",
    "    new_data = consume_2(consumer2a, topic2)\n",
    "    if not new_data:\n",
    "        break\n",
    "    time.sleep(4)"
   ],
   "metadata": {
    "collapsed": false
   }
  },
  {
   "cell_type": "markdown",
   "source": [],
   "metadata": {
    "collapsed": false
   }
  },
  {
   "cell_type": "code",
   "execution_count": 5,
   "outputs": [],
   "source": [],
   "metadata": {
    "collapsed": false
   }
  },
  {
   "cell_type": "code",
   "execution_count": null,
   "outputs": [],
   "source": [],
   "metadata": {
    "collapsed": false
   }
  }
 ],
 "metadata": {
  "kernelspec": {
   "display_name": "Python 3",
   "language": "python",
   "name": "python3"
  },
  "language_info": {
   "codemirror_mode": {
    "name": "ipython",
    "version": 2
   },
   "file_extension": ".py",
   "mimetype": "text/x-python",
   "name": "python",
   "nbconvert_exporter": "python",
   "pygments_lexer": "ipython2",
   "version": "2.7.6"
  }
 },
 "nbformat": 4,
 "nbformat_minor": 0
}