{
 "cells": [
  {
   "cell_type": "code",
   "execution_count": null,
   "outputs": [],
   "source": [
    "#!pip install kafka-python"
   ],
   "metadata": {
    "collapsed": false
   }
  },
  {
   "cell_type": "code",
   "execution_count": 15,
   "metadata": {
    "collapsed": true
   },
   "outputs": [],
   "source": [
    "from kafka import KafkaConsumer, KafkaProducer\n",
    "import json\n",
    "import uuid\n",
    "import pandas as pd\n",
    "import csv\n",
    "import time\n",
    "\n"
   ]
  },
  {
   "cell_type": "markdown",
   "source": [
    "# Data Producer 1"
   ],
   "metadata": {
    "collapsed": false
   }
  },
  {
   "cell_type": "code",
   "execution_count": 16,
   "outputs": [],
   "source": [
    "def connect_kafka_producer(servers):\n",
    "    _producer = None\n",
    "    try:\n",
    "        _producer = KafkaProducer(bootstrap_servers=servers, api_version=(0, 10))\n",
    "    except Exception as ex:\n",
    "        print('Exception while connecting Kafka')\n",
    "        print(str(ex))\n",
    "    finally:\n",
    "        return _producer\n",
    "\n",
    "def publish_message(producer_instance, topic_name, key, value):\n",
    "    try:\n",
    "        key_bytes = bytes(key, encoding='utf-8')\n",
    "        value_bytes = bytes(value, encoding='utf-8')\n",
    "        producer_instance.send(topic_name, key=key_bytes, value=value_bytes)\n",
    "        producer_instance.flush()\n",
    "        print(f'Message published successfully to topic:  {topic_name}.')\n",
    "    except Exception as ex:\n",
    "        print('Exception in publishing message')\n",
    "        print(str(ex))\n",
    "\n",
    "def produce_xy(producer, topic_name, sleep_hz):\n",
    "    with open('data/gen1_sinus_data.csv') as f:\n",
    "        reader = [line.split() for line in f]\n",
    "        for i, line in enumerate(reader):\n",
    "            print(f'index {i}, data: {line}')\n",
    "            message = json.dumps({'index':i, 'data': line})\n",
    "            publish_message(producer, topic_name, str(uuid.uuid4()), message)\n",
    "            time.sleep(sleep_hz)"
   ],
   "metadata": {
    "collapsed": false
   }
  },
  {
   "cell_type": "code",
   "execution_count": 18,
   "outputs": [
    {
     "name": "stdout",
     "output_type": "stream",
     "text": [
      "index 0, data: ['0']\n",
      "Message published successfully to topic:  data_gen1.\n",
      "index 1, data: ['0.0']\n",
      "Message published successfully to topic:  data_gen1.\n",
      "index 2, data: ['0.03947210874531593']\n",
      "Message published successfully to topic:  data_gen1.\n",
      "index 3, data: ['0.07888269410203015']\n",
      "Message published successfully to topic:  data_gen1.\n",
      "index 4, data: ['0.11817032857526096']\n",
      "Message published successfully to topic:  data_gen1.\n",
      "index 5, data: ['0.15727377630810155']\n",
      "Message published successfully to topic:  data_gen1.\n",
      "index 6, data: ['0.19613208852717737']\n",
      "Message published successfully to topic:  data_gen1.\n",
      "index 7, data: ['0.23468469854073934']\n",
      "Message published successfully to topic:  data_gen1.\n",
      "index 8, data: ['0.27287151614122407']\n",
      "Message published successfully to topic:  data_gen1.\n"
     ]
    },
    {
     "ename": "KeyboardInterrupt",
     "evalue": "",
     "output_type": "error",
     "traceback": [
      "\u001B[0;31m---------------------------------------------------------------------------\u001B[0m",
      "\u001B[0;31mKeyboardInterrupt\u001B[0m                         Traceback (most recent call last)",
      "Cell \u001B[0;32mIn [18], line 9\u001B[0m\n\u001B[1;32m      6\u001B[0m producer1 \u001B[38;5;241m=\u001B[39m connect_kafka_producer(server1)\n\u001B[1;32m      8\u001B[0m hz \u001B[38;5;241m=\u001B[39m \u001B[38;5;241m0.5\u001B[39m\n\u001B[0;32m----> 9\u001B[0m produce_xy(producer1, topic, hz)\n",
      "Cell \u001B[0;32mIn [16], line 29\u001B[0m, in \u001B[0;36mproduce_xy\u001B[0;34m(producer, topic_name, sleep_hz)\u001B[0m\n\u001B[1;32m     27\u001B[0m message \u001B[38;5;241m=\u001B[39m json\u001B[38;5;241m.\u001B[39mdumps({\u001B[38;5;124m'\u001B[39m\u001B[38;5;124mindex\u001B[39m\u001B[38;5;124m'\u001B[39m:i, \u001B[38;5;124m'\u001B[39m\u001B[38;5;124mdata\u001B[39m\u001B[38;5;124m'\u001B[39m: line})\n\u001B[1;32m     28\u001B[0m publish_message(producer, topic_name, \u001B[38;5;28mstr\u001B[39m(uuid\u001B[38;5;241m.\u001B[39muuid4()), message)\n\u001B[0;32m---> 29\u001B[0m \u001B[43mtime\u001B[49m\u001B[38;5;241;43m.\u001B[39;49m\u001B[43msleep\u001B[49m\u001B[43m(\u001B[49m\u001B[43msleep_hz\u001B[49m\u001B[43m)\u001B[49m\n",
      "\u001B[0;31mKeyboardInterrupt\u001B[0m: "
     ]
    }
   ],
   "source": [
    "server1 = 'broker1:9093'\n",
    "server2 = 'broker2:9095'\n",
    "server3 = 'broker3:9097'\n",
    "topic = \"data_gen1\"\n",
    "\n",
    "producer1 = connect_kafka_producer(server1)\n",
    "\n",
    "hz = 0.5\n",
    "produce_xy(producer1, topic, hz)"
   ],
   "metadata": {
    "collapsed": false
   }
  },
  {
   "cell_type": "code",
   "execution_count": null,
   "outputs": [],
   "source": [],
   "metadata": {
    "collapsed": false,
    "pycharm": {
     "is_executing": true
    }
   }
  },
  {
   "cell_type": "code",
   "execution_count": null,
   "outputs": [],
   "source": [],
   "metadata": {
    "collapsed": false
   }
  }
 ],
 "metadata": {
  "kernelspec": {
   "display_name": "Python 3",
   "language": "python",
   "name": "python3"
  },
  "language_info": {
   "codemirror_mode": {
    "name": "ipython",
    "version": 2
   },
   "file_extension": ".py",
   "mimetype": "text/x-python",
   "name": "python",
   "nbconvert_exporter": "python",
   "pygments_lexer": "ipython2",
   "version": "2.7.6"
  }
 },
 "nbformat": 4,
 "nbformat_minor": 0
}
