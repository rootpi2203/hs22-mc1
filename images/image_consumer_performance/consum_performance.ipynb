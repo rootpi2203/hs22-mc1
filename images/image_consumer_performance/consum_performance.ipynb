{
 "cells": [
  {
   "cell_type": "code",
   "execution_count": null,
   "metadata": {
    "collapsed": true
   },
   "outputs": [],
   "source": [
    "import warnings\n",
    "warnings.filterwarnings(\"ignore\")\n",
    "\n",
    "import pandas as pd\n",
    "from kafka import KafkaConsumer, KafkaProducer\n",
    "import json\n",
    "import uuid\n",
    "import pandas as pd\n",
    "import numpy as np\n",
    "import csv\n",
    "import time\n",
    "import datetime\n",
    "import time\n",
    "import matplotlib.pyplot as plt"
   ]
  },
  {
   "cell_type": "code",
   "execution_count": null,
   "outputs": [],
   "source": [
    "server1 = 'broker1:9093'\n",
    "server2 = 'broker2:9095'\n",
    "server3 = 'broker3:9097'\n",
    "\n",
    "topic_perf = \"performance\""
   ],
   "metadata": {
    "collapsed": false
   }
  },
  {
   "cell_type": "code",
   "execution_count": null,
   "outputs": [],
   "source": [
    "consumer_perf = KafkaConsumer(topic_perf,\n",
    "                         auto_offset_reset='earliest',\n",
    "                         bootstrap_servers=[server2],\n",
    "                         api_version=(0, 10),\n",
    "                         value_deserializer = json.loads,\n",
    "                         #consumer_timeout_ms=50,\n",
    "                         client_id=\"performance\")\n",
    "\n",
    "\n",
    "def clean_dataframe(df):\n",
    "    df = df.set_index('time', drop=True)\n",
    "    df.index = pd.to_datetime(df.index)\n",
    "    df.mess_num = df.mess_num.astype(int)\n",
    "\n",
    "    # resample data and take only full second measurement\n",
    "    df = df.resample('s').sum()\n",
    "    return df\n",
    "\n",
    "def make_plot1(data):\n",
    "    # clean data, get only full measurements seconds\n",
    "    data_clean = clean_dataframe(data)[1:-1]\n",
    "\n",
    "    fig, ax = plt.subplots(figsize=(12, 6))\n",
    "\n",
    "    plt.plot(data_clean.index, data_clean.mess_num)\n",
    "    #plt.ylim(0, 2000)\n",
    "    plt.title(\"Anzahl verschickter Nachrichten, aggregiert: sekunde\")\n",
    "    plt.xlabel('Zeit')\n",
    "    plt.ylabel('Anzahl Nachrichten/s')\n",
    "    plt.xticks(rotation=45)\n",
    "    plt.show()\n",
    "\n",
    "def consume_perf(consumer, topic_name, timeout=10):\n",
    "    # get data from Kafka\n",
    "    df_data = pd.DataFrame(columns=['time', 'host', 'mess_num'])\n",
    "\n",
    "    timeout_start = time.time()\n",
    "    for i, msg in enumerate(consumer):\n",
    "\n",
    "        #print(f'{datetime.datetime.now()}: messages received on topic: {topic_name}')\n",
    "        #print(f'{msg.value}')\n",
    "\n",
    "        # prepare data\n",
    "        df_data = df_data.append(msg.value, ignore_index=True)\n",
    "\n",
    "        time_diff = int(time.time() - timeout_start)\n",
    "        if time_diff > timeout:\n",
    "            print(f'timeout: {timeout}')\n",
    "            return df_data\n"
   ],
   "metadata": {
    "collapsed": false
   }
  },
  {
   "cell_type": "code",
   "execution_count": null,
   "outputs": [],
   "source": [
    "from IPython.display import clear_output\n",
    "\n",
    "df_data_all = pd.DataFrame(columns=['time', 'host', 'mess_num'])\n",
    "\n",
    "#for i in range(20):\n",
    "while True:\n",
    "    data = consume_perf(consumer_perf, topic_perf, timeout=5)\n",
    "    df_data_all = pd.concat([df_data_all, data])\n",
    "\n",
    "    # show data\n",
    "    clear_output(wait=True)\n",
    "    print(f'total messages: {df_data_all.shape[0]}')\n",
    "    make_plot1(df_data_all)"
   ],
   "metadata": {
    "collapsed": false
   }
  }
 ],
 "metadata": {
  "kernelspec": {
   "display_name": "Python 3",
   "language": "python",
   "name": "python3"
  },
  "language_info": {
   "codemirror_mode": {
    "name": "ipython",
    "version": 2
   },
   "file_extension": ".py",
   "mimetype": "text/x-python",
   "name": "python",
   "nbconvert_exporter": "python",
   "pygments_lexer": "ipython2",
   "version": "2.7.6"
  }
 },
 "nbformat": 4,
 "nbformat_minor": 0
}
