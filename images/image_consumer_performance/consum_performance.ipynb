{
 "cells": [
  {
   "cell_type": "code",
   "execution_count": null,
   "metadata": {
    "collapsed": true
   },
   "outputs": [],
   "source": [
    "import pandas as pd\n",
    "\n",
    "from kafka import KafkaConsumer, KafkaProducer\n",
    "import json\n",
    "import uuid\n",
    "import pandas as pd\n",
    "import csv\n",
    "import time\n",
    "from datetime import datetime"
   ]
  },
  {
   "cell_type": "code",
   "execution_count": null,
   "outputs": [],
   "source": [
    "server1 = 'broker1:9093'\n",
    "server2 = 'broker2:9095'\n",
    "server3 = 'broker3:9097'\n",
    "\n",
    "topic_perf = \"performance\""
   ],
   "metadata": {
    "collapsed": false,
    "pycharm": {
     "name": "#%%\n"
    }
   }
  },
  {
   "cell_type": "code",
   "execution_count": null,
   "outputs": [],
   "source": [
    "consumer_perf = KafkaConsumer(topic_perf,\n",
    "                         auto_offset_reset='earliest',\n",
    "                         bootstrap_servers=[server2],\n",
    "                         api_version=(0, 10),\n",
    "                         value_deserializer = json.loads,\n",
    "                         #consumer_timeout_ms=50,\n",
    "                         client_id=\"performance\")\n",
    "\n",
    "def consume_perf(consumer, topic_name):\n",
    "    # get data from Kafka\n",
    "    messages = []\n",
    "    for msg in consumer:\n",
    "        messages.append(msg.value)\n",
    "\n",
    "        print(f'{datetime.now()}: {len(msg.value)} messages received on topic: {topic_name}', flush=True)\n",
    "\n",
    "    # save received data to csv\n",
    "    if len(messages) != 0:\n",
    "        # print  latest received data point\n",
    "        print(f'latest data: {messages[-1][\"data\"]}', flush=True)\n",
    "        print(flush=True)\n",
    "    else:\n",
    "        print('no new messages - waiting for producer', flush=True)\n"
   ],
   "metadata": {
    "collapsed": false,
    "pycharm": {
     "name": "#%%\n"
    }
   }
  },
  {
   "cell_type": "code",
   "execution_count": null,
   "outputs": [],
   "source": [
    "consume_perf(consumer_perf, topic_perf)"
   ],
   "metadata": {
    "collapsed": false,
    "pycharm": {
     "name": "#%%\n"
    }
   }
  },
  {
   "cell_type": "code",
   "execution_count": null,
   "outputs": [],
   "source": [],
   "metadata": {
    "collapsed": false,
    "pycharm": {
     "name": "#%%\n"
    }
   }
  }
 ],
 "metadata": {
  "kernelspec": {
   "display_name": "Python 3",
   "language": "python",
   "name": "python3"
  },
  "language_info": {
   "codemirror_mode": {
    "name": "ipython",
    "version": 2
   },
   "file_extension": ".py",
   "mimetype": "text/x-python",
   "name": "python",
   "nbconvert_exporter": "python",
   "pygments_lexer": "ipython2",
   "version": "2.7.6"
  }
 },
 "nbformat": 4,
 "nbformat_minor": 0
}