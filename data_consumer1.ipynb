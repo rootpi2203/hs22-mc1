{
 "cells": [
  {
   "cell_type": "code",
   "execution_count": null,
   "metadata": {
    "collapsed": true
   },
   "outputs": [],
   "source": [
    "!pip install kafka-python"
   ]
  },
  {
   "cell_type": "code",
   "execution_count": 24,
   "outputs": [],
   "source": [
    "from kafka import KafkaConsumer, KafkaProducer\n",
    "import json\n",
    "import uuid\n",
    "import pandas as pd\n",
    "import csv\n",
    "import time"
   ],
   "metadata": {
    "collapsed": false
   }
  },
  {
   "cell_type": "markdown",
   "source": [
    "# Consumer 1"
   ],
   "metadata": {
    "collapsed": false
   }
  },
  {
   "cell_type": "code",
   "execution_count": 25,
   "outputs": [],
   "source": [
    "def consume_1(consumer, topic_name):\n",
    "    # get data from Kafka\n",
    "    messages = []\n",
    "    for msg in consumer:\n",
    "        #print(msg.key.decode(\"utf-8\"), msg.value)\n",
    "        messages.append(msg.value)\n",
    "    print(f'{len(messages)} messages received on topic: {topic_name}')\n",
    "\n",
    "    # save received data to csv\n",
    "    if len(messages) != 0:\n",
    "        # write new file\n",
    "        if messages[0]['index'] == 0:\n",
    "            df_consumer1 = pd.DataFrame(messages)\n",
    "            df_consumer1.to_csv('data/consum_sinus_data.csv', mode='w', index=False)\n",
    "            print('messages saved in new file')\n",
    "        # append to file\n",
    "        else:\n",
    "            df_consumer1 = pd.DataFrame(messages)\n",
    "            df_consumer1.to_csv('data/consum_sinus_data.csv', mode='a', header=False, index=False)\n",
    "            print('messages saved to file')\n",
    "        return True\n",
    "    else:\n",
    "        print('no new messages - producer stopped')\n",
    "        return False"
   ],
   "metadata": {
    "collapsed": false
   }
  },
  {
   "cell_type": "code",
   "execution_count": 26,
   "outputs": [],
   "source": [
    "server1 = 'broker1:9093'\n",
    "server2 = 'broker1:9095'\n",
    "server3 = 'broker1:9097'\n",
    "\n",
    "topic1 = \"data_gen1\"\n",
    "topic2 = \"data_gen2\"\n",
    "\n",
    "consumer1 = KafkaConsumer(topic1,\n",
    "                         auto_offset_reset='earliest',\n",
    "                         bootstrap_servers=[server1],\n",
    "                         api_version=(0, 10),\n",
    "                         value_deserializer = json.loads,\n",
    "                         consumer_timeout_ms=400)"
   ],
   "metadata": {
    "collapsed": false
   }
  },
  {
   "cell_type": "code",
   "execution_count": 28,
   "outputs": [
    {
     "name": "stdout",
     "output_type": "stream",
     "text": [
      "9 messages received on topic: data_gen1\n",
      "messages saved in new file\n",
      "0 messages received on topic: data_gen1\n",
      "no new messages - producer stopped\n"
     ]
    }
   ],
   "source": [
    "while True:\n",
    "    new_data = consume_1(consumer1, topic1)\n",
    "    if not new_data:\n",
    "        break\n",
    "    time.sleep(5)"
   ],
   "metadata": {
    "collapsed": false
   }
  },
  {
   "cell_type": "code",
   "execution_count": null,
   "outputs": [],
   "source": [],
   "metadata": {
    "collapsed": false
   }
  },
  {
   "cell_type": "code",
   "execution_count": null,
   "outputs": [],
   "source": [],
   "metadata": {
    "collapsed": false
   }
  },
  {
   "cell_type": "code",
   "execution_count": null,
   "outputs": [],
   "source": [],
   "metadata": {
    "collapsed": false
   }
  },
  {
   "cell_type": "code",
   "execution_count": null,
   "outputs": [],
   "source": [],
   "metadata": {
    "collapsed": false
   }
  },
  {
   "cell_type": "markdown",
   "source": [
    "Frage:\n",
    "server angabe -> producer server1 und consumer server 2.\n",
    "hohee frequenz senden aber tiefe lesen. langsamer?"
   ],
   "metadata": {
    "collapsed": false
   }
  },
  {
   "cell_type": "markdown",
   "source": [],
   "metadata": {
    "collapsed": false
   }
  },
  {
   "cell_type": "code",
   "execution_count": null,
   "outputs": [],
   "source": [],
   "metadata": {
    "collapsed": false
   }
  },
  {
   "cell_type": "code",
   "execution_count": null,
   "outputs": [],
   "source": [],
   "metadata": {
    "collapsed": false
   }
  }
 ],
 "metadata": {
  "kernelspec": {
   "display_name": "Python 3",
   "language": "python",
   "name": "python3"
  },
  "language_info": {
   "codemirror_mode": {
    "name": "ipython",
    "version": 2
   },
   "file_extension": ".py",
   "mimetype": "text/x-python",
   "name": "python",
   "nbconvert_exporter": "python",
   "pygments_lexer": "ipython2",
   "version": "2.7.6"
  }
 },
 "nbformat": 4,
 "nbformat_minor": 0
}
