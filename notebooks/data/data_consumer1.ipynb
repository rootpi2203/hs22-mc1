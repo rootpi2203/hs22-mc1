{
 "cells": [
  {
   "cell_type": "code",
   "execution_count": 1,
   "metadata": {
    "tags": []
   },
   "outputs": [
    {
     "name": "stdout",
     "output_type": "stream",
     "text": [
      "Requirement already satisfied: kafka-python in /opt/conda/lib/python3.10/site-packages (2.0.2)\n"
     ]
    }
   ],
   "source": [
    "!pip install kafka-python"
   ]
  },
  {
   "cell_type": "code",
   "execution_count": 2,
   "metadata": {
    "collapsed": false,
    "jupyter": {
     "outputs_hidden": false
    }
   },
   "outputs": [],
   "source": [
    "from kafka import KafkaConsumer, KafkaProducer\n",
    "import json\n",
    "import uuid\n",
    "import pandas as pd\n",
    "import csv\n",
    "import time"
   ]
  },
  {
   "cell_type": "markdown",
   "metadata": {},
   "source": [
    "# Consumer 1"
   ]
  },
  {
   "cell_type": "code",
   "execution_count": 3,
   "metadata": {
    "collapsed": false,
    "jupyter": {
     "outputs_hidden": false
    }
   },
   "outputs": [],
   "source": [
    "server1 = 'broker1:9093'\n",
    "server2 = 'broker2:9095'\n",
    "server3 = 'broker3:9097'\n",
    "\n",
    "topic1 = \"data_gen1\"\n",
    "topic2 = \"data_gen2\"\n",
    "\n",
    "consumer1 = KafkaConsumer(topic1,\n",
    "                         auto_offset_reset='earliest',\n",
    "                         bootstrap_servers=[server1],\n",
    "                         api_version=(0, 10),\n",
    "                         value_deserializer = json.loads,\n",
    "                         consumer_timeout_ms=400,\n",
    "                         client_id='joe')"
   ]
  },
  {
   "cell_type": "code",
   "execution_count": 4,
   "metadata": {
    "collapsed": false,
    "jupyter": {
     "outputs_hidden": false
    }
   },
   "outputs": [],
   "source": [
    "def consume_1(consumer, topic_name):\n",
    "    # get data from Kafka\n",
    "    messages = []\n",
    "    for msg in consumer:\n",
    "        #print(msg.key.decode(\"utf-8\"), msg.value)\n",
    "        messages.append(msg.value)\n",
    "    print(f'{len(messages)} messages received on topic: {topic_name}')\n",
    "\n",
    "    # save received data to csv\n",
    "    if len(messages) != 0:\n",
    "        # write new file\n",
    "        if messages[0]['index'] == 0:\n",
    "            df_consumer1 = pd.DataFrame(messages)\n",
    "            df_consumer1.to_csv('consum_sinus_data.csv', mode='w', index=False)\n",
    "            print('messages saved in new file')\n",
    "        # append to file\n",
    "        else:\n",
    "            df_consumer1 = pd.DataFrame(messages)\n",
    "            df_consumer1.to_csv('consum_sinus_data.csv', mode='a', header=False, index=False)\n",
    "            print('messages saved to file')\n",
    "        return True\n",
    "    else:\n",
    "        print('no new messages - producer has stopped')\n",
    "        return False"
   ]
  },
  {
   "cell_type": "code",
   "execution_count": 6,
   "metadata": {
    "collapsed": false,
    "jupyter": {
     "outputs_hidden": false
    }
   },
   "outputs": [
    {
     "name": "stdout",
     "output_type": "stream",
     "text": [
      "40 messages received on topic: data_gen1\n",
      "messages saved to file\n",
      "16 messages received on topic: data_gen1\n",
      "messages saved to file\n",
      "11 messages received on topic: data_gen1\n",
      "messages saved to file\n",
      "11 messages received on topic: data_gen1\n",
      "messages saved to file\n",
      "11 messages received on topic: data_gen1\n",
      "messages saved to file\n",
      "11 messages received on topic: data_gen1\n",
      "messages saved to file\n",
      "11 messages received on topic: data_gen1\n",
      "messages saved to file\n",
      "11 messages received on topic: data_gen1\n",
      "messages saved to file\n",
      "11 messages received on topic: data_gen1\n",
      "messages saved to file\n",
      "11 messages received on topic: data_gen1\n",
      "messages saved to file\n",
      "11 messages received on topic: data_gen1\n",
      "messages saved to file\n",
      "11 messages received on topic: data_gen1\n",
      "messages saved to file\n",
      "11 messages received on topic: data_gen1\n",
      "messages saved to file\n",
      "11 messages received on topic: data_gen1\n",
      "messages saved to file\n",
      "11 messages received on topic: data_gen1\n",
      "messages saved to file\n",
      "11 messages received on topic: data_gen1\n",
      "messages saved to file\n",
      "11 messages received on topic: data_gen1\n",
      "messages saved to file\n",
      "11 messages received on topic: data_gen1\n",
      "messages saved to file\n",
      "11 messages received on topic: data_gen1\n",
      "messages saved to file\n",
      "11 messages received on topic: data_gen1\n",
      "messages saved to file\n",
      "11 messages received on topic: data_gen1\n",
      "messages saved to file\n",
      "11 messages received on topic: data_gen1\n",
      "messages saved to file\n",
      "11 messages received on topic: data_gen1\n",
      "messages saved to file\n",
      "11 messages received on topic: data_gen1\n",
      "messages saved to file\n",
      "11 messages received on topic: data_gen1\n",
      "messages saved to file\n",
      "11 messages received on topic: data_gen1\n",
      "messages saved to file\n",
      "11 messages received on topic: data_gen1\n",
      "messages saved to file\n",
      "11 messages received on topic: data_gen1\n",
      "messages saved to file\n",
      "11 messages received on topic: data_gen1\n",
      "messages saved to file\n",
      "11 messages received on topic: data_gen1\n",
      "messages saved to file\n",
      "11 messages received on topic: data_gen1\n",
      "messages saved to file\n",
      "11 messages received on topic: data_gen1\n",
      "messages saved to file\n",
      "11 messages received on topic: data_gen1\n",
      "messages saved to file\n",
      "11 messages received on topic: data_gen1\n",
      "messages saved to file\n",
      "11 messages received on topic: data_gen1\n",
      "messages saved to file\n",
      "11 messages received on topic: data_gen1\n",
      "messages saved to file\n",
      "11 messages received on topic: data_gen1\n",
      "messages saved to file\n",
      "11 messages received on topic: data_gen1\n",
      "messages saved to file\n",
      "11 messages received on topic: data_gen1\n",
      "messages saved to file\n",
      "11 messages received on topic: data_gen1\n",
      "messages saved to file\n",
      "11 messages received on topic: data_gen1\n",
      "messages saved to file\n",
      "11 messages received on topic: data_gen1\n",
      "messages saved to file\n",
      "11 messages received on topic: data_gen1\n",
      "messages saved to file\n",
      "11 messages received on topic: data_gen1\n",
      "messages saved to file\n",
      "11 messages received on topic: data_gen1\n",
      "messages saved to file\n",
      "11 messages received on topic: data_gen1\n",
      "messages saved to file\n",
      "11 messages received on topic: data_gen1\n",
      "messages saved to file\n",
      "11 messages received on topic: data_gen1\n",
      "messages saved to file\n",
      "11 messages received on topic: data_gen1\n",
      "messages saved to file\n",
      "11 messages received on topic: data_gen1\n",
      "messages saved to file\n",
      "11 messages received on topic: data_gen1\n",
      "messages saved to file\n",
      "11 messages received on topic: data_gen1\n",
      "messages saved to file\n",
      "11 messages received on topic: data_gen1\n",
      "messages saved to file\n",
      "11 messages received on topic: data_gen1\n",
      "messages saved to file\n",
      "11 messages received on topic: data_gen1\n",
      "messages saved to file\n",
      "11 messages received on topic: data_gen1\n",
      "messages saved to file\n",
      "11 messages received on topic: data_gen1\n",
      "messages saved to file\n",
      "11 messages received on topic: data_gen1\n",
      "messages saved to file\n",
      "11 messages received on topic: data_gen1\n",
      "messages saved to file\n",
      "11 messages received on topic: data_gen1\n",
      "messages saved to file\n",
      "11 messages received on topic: data_gen1\n",
      "messages saved to file\n",
      "11 messages received on topic: data_gen1\n",
      "messages saved to file\n",
      "11 messages received on topic: data_gen1\n",
      "messages saved to file\n",
      "11 messages received on topic: data_gen1\n",
      "messages saved to file\n",
      "11 messages received on topic: data_gen1\n",
      "messages saved to file\n",
      "11 messages received on topic: data_gen1\n",
      "messages saved to file\n",
      "11 messages received on topic: data_gen1\n",
      "messages saved to file\n",
      "11 messages received on topic: data_gen1\n",
      "messages saved to file\n",
      "11 messages received on topic: data_gen1\n",
      "messages saved to file\n",
      "11 messages received on topic: data_gen1\n",
      "messages saved to file\n",
      "11 messages received on topic: data_gen1\n",
      "messages saved to file\n",
      "11 messages received on topic: data_gen1\n",
      "messages saved to file\n",
      "11 messages received on topic: data_gen1\n",
      "messages saved to file\n",
      "11 messages received on topic: data_gen1\n",
      "messages saved to file\n",
      "11 messages received on topic: data_gen1\n",
      "messages saved to file\n",
      "11 messages received on topic: data_gen1\n",
      "messages saved to file\n",
      "11 messages received on topic: data_gen1\n",
      "messages saved to file\n",
      "11 messages received on topic: data_gen1\n",
      "messages saved to file\n",
      "11 messages received on topic: data_gen1\n",
      "messages saved to file\n",
      "11 messages received on topic: data_gen1\n",
      "messages saved to file\n",
      "11 messages received on topic: data_gen1\n",
      "messages saved to file\n",
      "11 messages received on topic: data_gen1\n",
      "messages saved to file\n",
      "11 messages received on topic: data_gen1\n",
      "messages saved to file\n",
      "11 messages received on topic: data_gen1\n",
      "messages saved to file\n",
      "11 messages received on topic: data_gen1\n",
      "messages saved to file\n",
      "11 messages received on topic: data_gen1\n",
      "messages saved to file\n",
      "11 messages received on topic: data_gen1\n",
      "messages saved to file\n",
      "11 messages received on topic: data_gen1\n",
      "messages saved to file\n",
      "11 messages received on topic: data_gen1\n",
      "messages saved to file\n",
      "11 messages received on topic: data_gen1\n",
      "messages saved to file\n",
      "11 messages received on topic: data_gen1\n",
      "messages saved to file\n",
      "11 messages received on topic: data_gen1\n",
      "messages saved to file\n",
      "11 messages received on topic: data_gen1\n",
      "messages saved to file\n",
      "11 messages received on topic: data_gen1\n",
      "messages saved to file\n",
      "11 messages received on topic: data_gen1\n",
      "messages saved to file\n",
      "11 messages received on topic: data_gen1\n",
      "messages saved to file\n",
      "11 messages received on topic: data_gen1\n",
      "messages saved to file\n",
      "11 messages received on topic: data_gen1\n",
      "messages saved to file\n",
      "11 messages received on topic: data_gen1\n",
      "messages saved to file\n",
      "11 messages received on topic: data_gen1\n",
      "messages saved to file\n",
      "11 messages received on topic: data_gen1\n",
      "messages saved to file\n",
      "11 messages received on topic: data_gen1\n",
      "messages saved to file\n",
      "11 messages received on topic: data_gen1\n",
      "messages saved to file\n",
      "11 messages received on topic: data_gen1\n",
      "messages saved to file\n",
      "11 messages received on topic: data_gen1\n",
      "messages saved to file\n",
      "11 messages received on topic: data_gen1\n",
      "messages saved to file\n",
      "11 messages received on topic: data_gen1\n",
      "messages saved to file\n",
      "11 messages received on topic: data_gen1\n",
      "messages saved to file\n",
      "11 messages received on topic: data_gen1\n",
      "messages saved to file\n",
      "11 messages received on topic: data_gen1\n",
      "messages saved to file\n",
      "11 messages received on topic: data_gen1\n",
      "messages saved to file\n",
      "11 messages received on topic: data_gen1\n",
      "messages saved to file\n",
      "11 messages received on topic: data_gen1\n",
      "messages saved to file\n",
      "11 messages received on topic: data_gen1\n",
      "messages saved to file\n",
      "11 messages received on topic: data_gen1\n",
      "messages saved to file\n",
      "11 messages received on topic: data_gen1\n",
      "messages saved to file\n",
      "11 messages received on topic: data_gen1\n",
      "messages saved to file\n",
      "11 messages received on topic: data_gen1\n",
      "messages saved to file\n",
      "11 messages received on topic: data_gen1\n",
      "messages saved to file\n",
      "11 messages received on topic: data_gen1\n",
      "messages saved to file\n",
      "11 messages received on topic: data_gen1\n",
      "messages saved to file\n",
      "11 messages received on topic: data_gen1\n",
      "messages saved to file\n",
      "11 messages received on topic: data_gen1\n",
      "messages saved to file\n",
      "11 messages received on topic: data_gen1\n",
      "messages saved to file\n",
      "11 messages received on topic: data_gen1\n",
      "messages saved to file\n",
      "11 messages received on topic: data_gen1\n",
      "messages saved to file\n",
      "11 messages received on topic: data_gen1\n",
      "messages saved to file\n",
      "11 messages received on topic: data_gen1\n",
      "messages saved to file\n",
      "11 messages received on topic: data_gen1\n",
      "messages saved to file\n",
      "11 messages received on topic: data_gen1\n",
      "messages saved to file\n",
      "11 messages received on topic: data_gen1\n",
      "messages saved to file\n",
      "11 messages received on topic: data_gen1\n",
      "messages saved to file\n",
      "11 messages received on topic: data_gen1\n",
      "messages saved to file\n",
      "11 messages received on topic: data_gen1\n",
      "messages saved to file\n",
      "11 messages received on topic: data_gen1\n",
      "messages saved to file\n",
      "11 messages received on topic: data_gen1\n",
      "messages saved to file\n",
      "11 messages received on topic: data_gen1\n",
      "messages saved to file\n",
      "11 messages received on topic: data_gen1\n",
      "messages saved to file\n",
      "11 messages received on topic: data_gen1\n",
      "messages saved to file\n",
      "11 messages received on topic: data_gen1\n",
      "messages saved to file\n",
      "11 messages received on topic: data_gen1\n",
      "messages saved to file\n",
      "11 messages received on topic: data_gen1\n",
      "messages saved to file\n",
      "11 messages received on topic: data_gen1\n",
      "messages saved to file\n",
      "11 messages received on topic: data_gen1\n",
      "messages saved to file\n",
      "11 messages received on topic: data_gen1\n",
      "messages saved to file\n",
      "11 messages received on topic: data_gen1\n",
      "messages saved to file\n",
      "11 messages received on topic: data_gen1\n",
      "messages saved to file\n",
      "11 messages received on topic: data_gen1\n",
      "messages saved to file\n",
      "11 messages received on topic: data_gen1\n",
      "messages saved to file\n",
      "11 messages received on topic: data_gen1\n",
      "messages saved to file\n",
      "11 messages received on topic: data_gen1\n",
      "messages saved to file\n",
      "11 messages received on topic: data_gen1\n",
      "messages saved to file\n",
      "11 messages received on topic: data_gen1\n",
      "messages saved to file\n"
     ]
    },
    {
     "ename": "KeyboardInterrupt",
     "evalue": "",
     "output_type": "error",
     "traceback": [
      "\u001b[0;31m---------------------------------------------------------------------------\u001b[0m",
      "\u001b[0;31mKeyboardInterrupt\u001b[0m                         Traceback (most recent call last)",
      "Cell \u001b[0;32mIn [6], line 5\u001b[0m\n\u001b[1;32m      3\u001b[0m \u001b[38;5;28;01mif\u001b[39;00m \u001b[38;5;129;01mnot\u001b[39;00m new_data:\n\u001b[1;32m      4\u001b[0m     \u001b[38;5;28;01mbreak\u001b[39;00m\n\u001b[0;32m----> 5\u001b[0m \u001b[43mtime\u001b[49m\u001b[38;5;241;43m.\u001b[39;49m\u001b[43msleep\u001b[49m\u001b[43m(\u001b[49m\u001b[38;5;241;43m5\u001b[39;49m\u001b[43m)\u001b[49m\n",
      "\u001b[0;31mKeyboardInterrupt\u001b[0m: "
     ]
    }
   ],
   "source": [
    "while True:\n",
    "    new_data = consume_1(consumer1, topic1)\n",
    "    if not new_data:\n",
    "        break\n",
    "    time.sleep(5)"
   ]
  },
  {
   "cell_type": "code",
   "execution_count": null,
   "metadata": {
    "collapsed": false,
    "jupyter": {
     "outputs_hidden": false
    }
   },
   "outputs": [],
   "source": []
  },
  {
   "cell_type": "code",
   "execution_count": null,
   "metadata": {
    "collapsed": false,
    "jupyter": {
     "outputs_hidden": false
    }
   },
   "outputs": [],
   "source": []
  },
  {
   "cell_type": "code",
   "execution_count": null,
   "metadata": {
    "collapsed": false,
    "jupyter": {
     "outputs_hidden": false
    }
   },
   "outputs": [],
   "source": []
  },
  {
   "cell_type": "code",
   "execution_count": null,
   "metadata": {
    "collapsed": false,
    "jupyter": {
     "outputs_hidden": false
    }
   },
   "outputs": [],
   "source": []
  },
  {
   "cell_type": "markdown",
   "metadata": {},
   "source": [
    "Frage:\n",
    "server angabe -> producer server1 und consumer server 2.\n",
    "hohee frequenz senden aber tiefe lesen. langsamer?"
   ]
  },
  {
   "cell_type": "markdown",
   "metadata": {},
   "source": []
  },
  {
   "cell_type": "code",
   "execution_count": null,
   "metadata": {
    "collapsed": false,
    "jupyter": {
     "outputs_hidden": false
    }
   },
   "outputs": [],
   "source": []
  },
  {
   "cell_type": "code",
   "execution_count": null,
   "metadata": {
    "collapsed": false,
    "jupyter": {
     "outputs_hidden": false
    }
   },
   "outputs": [],
   "source": []
  }
 ],
 "metadata": {
  "kernelspec": {
   "display_name": "Python 3 (ipykernel)",
   "language": "python",
   "name": "python3"
  },
  "language_info": {
   "codemirror_mode": {
    "name": "ipython",
    "version": 3
   },
   "file_extension": ".py",
   "mimetype": "text/x-python",
   "name": "python",
   "nbconvert_exporter": "python",
   "pygments_lexer": "ipython3",
   "version": "3.10.6"
  }
 },
 "nbformat": 4,
 "nbformat_minor": 4
}
